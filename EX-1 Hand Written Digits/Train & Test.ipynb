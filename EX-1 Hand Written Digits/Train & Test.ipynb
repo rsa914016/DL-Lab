{
 "cells": [
  {
   "cell_type": "code",
   "execution_count": 39,
   "id": "85e305d9",
   "metadata": {},
   "outputs": [],
   "source": [
    "from tensorflow.keras.layers import Flatten, Dense\n",
    "from tensorflow.keras import models\n",
    "from keras.datasets import mnist\n",
    "from tensorflow.keras.utils import to_categorical"
   ]
  },
  {
   "cell_type": "code",
   "execution_count": 35,
   "id": "a4396719",
   "metadata": {},
   "outputs": [],
   "source": [
    "(train_images, train_labels), (test_images, test_labels) = mnist.load_data()"
   ]
  },
  {
   "cell_type": "code",
   "execution_count": 40,
   "id": "a2ea3019",
   "metadata": {},
   "outputs": [],
   "source": [
    "model = models.Sequential([Flatten(input_shape=(28, 28)), Dense(128, activation='relu'),\n",
    "    Dense(64, activation='relu'), Dense(10, activation='softmax')])"
   ]
  },
  {
   "cell_type": "code",
   "execution_count": 41,
   "id": "8661bc74",
   "metadata": {},
   "outputs": [
    {
     "name": "stdout",
     "output_type": "stream",
     "text": [
      "Epoch 1/5\n",
      "938/938 [==============================] - 6s 5ms/step - loss: 0.2670 - accuracy: 0.9226\n",
      "Epoch 2/5\n",
      "938/938 [==============================] - 5s 5ms/step - loss: 0.1151 - accuracy: 0.9653\n",
      "Epoch 3/5\n",
      "938/938 [==============================] - 5s 5ms/step - loss: 0.0801 - accuracy: 0.9763\n",
      "Epoch 4/5\n",
      "938/938 [==============================] - 5s 5ms/step - loss: 0.0632 - accuracy: 0.9804\n",
      "Epoch 5/5\n",
      "938/938 [==============================] - 5s 5ms/step - loss: 0.0513 - accuracy: 0.9850\n",
      "313/313 [==============================] - 1s 3ms/step - loss: 0.0795 - accuracy: 0.9776\n",
      "0.9775999784469604\n"
     ]
    }
   ],
   "source": [
    "train_images = train_images.reshape((60000, 28, 28, 1))\n",
    "train_images = train_images.astype('float32') / 255\n",
    "test_images = test_images.reshape((10000, 28, 28, 1))\n",
    "test_images = test_images.astype('float32') / 255\n",
    "train_labels = to_categorical(train_labels)\n",
    "test_labels = to_categorical(test_labels)\n",
    "\n",
    "\n",
    "model.compile(optimizer='rmsprop', loss='categorical_crossentropy', metrics=['accuracy'])\n",
    "model.fit(train_images, train_labels, epochs=5, batch_size=64)\n",
    "test_loss, test_acc = model.evaluate(test_images, test_labels)\n",
    "\n",
    "print(test_acc)\n",
    "model.save('Recoginizer.h5')"
   ]
  },
  {
   "cell_type": "code",
   "execution_count": 42,
   "id": "4b66f9e8",
   "metadata": {},
   "outputs": [],
   "source": [
    "from tkinter import *\n",
    "import cv2\n",
    "import numpy as np\n",
    "from PIL import ImageGrab\n",
    "from tensorflow.keras.models import load_model\n",
    "\n",
    "model = load_model('Recoginizer.h5')"
   ]
  },
  {
   "cell_type": "code",
   "execution_count": null,
   "id": "a21b6332",
   "metadata": {},
   "outputs": [
    {
     "name": "stdout",
     "output_type": "stream",
     "text": [
      "8 99%\n"
     ]
    }
   ],
   "source": [
    "root = Tk()\n",
    "lastx, lasty = None, None\n",
    "\n",
    "cv = Canvas(root, width=300, height=300, bg='white')\n",
    "cv.grid(row=0, column=0, pady=2, sticky=W, columnspan=2)\n",
    "\n",
    "\n",
    "def draw_lines(event):\n",
    "    global lastx, lasty\n",
    "    x, y = event.x, event.y\n",
    "    cv.create_line((lastx, lasty, x, y), width=8, fill='black', capstyle=ROUND, smooth=TRUE, splinesteps=12)\n",
    "    lastx, lasty = x, y\n",
    "\n",
    "\n",
    "def activate_event(event):\n",
    "    global lastx, lasty\n",
    "    cv.bind('<B1-Motion>', draw_lines)\n",
    "    lastx, lasty = event.x, event.y\n",
    "\n",
    "\n",
    "cv.bind('<Button-1>', activate_event)\n",
    "\n",
    "\n",
    "def Recognize_Digit():\n",
    "    filename = f'Image.png'\n",
    "    widget = cv\n",
    "\n",
    "    x = root.winfo_rootx() + widget.winfo_rootx()\n",
    "    y = root.winfo_rooty() + widget.winfo_rooty()\n",
    "    x1 = x + widget.winfo_width()\n",
    "    y1 = y + widget.winfo_height()\n",
    "    ImageGrab.grab().crop((x, y, x1, y1)).save(filename)\n",
    "\n",
    "    image = cv2.imread(filename, cv2.IMREAD_COLOR)\n",
    "    gray = cv2.cvtColor(image.copy(), cv2.COLOR_BGR2GRAY)\n",
    "    ret, th = cv2.threshold(gray, 0, 255, cv2.THRESH_BINARY_INV + cv2.THRESH_OTSU)\n",
    "    contour = cv2.findContours(th, cv2.RETR_EXTERNAL, cv2.CHAIN_APPROX_SIMPLE)[0]\n",
    "    x, y, w, h = cv2.boundingRect(contour[0])\n",
    "    cv2.rectangle(image, (x, y), (x + w, y + h), (255, 0, 0), 1)\n",
    "    digit = th[y:y + h, x:x + w]\n",
    "\n",
    "    resized_digit = cv2.resize(digit, (18, 18))\n",
    "    padded_digit = np.pad(resized_digit, ((5, 5), (5, 5)), \"constant\", constant_values=0)\n",
    "    digit = (padded_digit.reshape(1, 28, 28, 1)) / 255.0\n",
    "    pred = model.predict([digit])[0] \n",
    "    print(str(np.argmax(pred)) + ' ' + str(int(max(pred) * 100)) + '%')\n",
    "\n",
    "btn_save = Button(text='Recognize Digit', command=Recognize_Digit)\n",
    "btn_save.grid(row=2, column=0, pady=1, padx=1,columnspan=2)\n",
    "root.mainloop()"
   ]
  },
  {
   "cell_type": "code",
   "execution_count": null,
   "id": "9d9cd7c6",
   "metadata": {},
   "outputs": [],
   "source": []
  }
 ],
 "metadata": {
  "kernelspec": {
   "display_name": "Python 3 (ipykernel)",
   "language": "python",
   "name": "python3"
  },
  "language_info": {
   "codemirror_mode": {
    "name": "ipython",
    "version": 3
   },
   "file_extension": ".py",
   "mimetype": "text/x-python",
   "name": "python",
   "nbconvert_exporter": "python",
   "pygments_lexer": "ipython3",
   "version": "3.10.4"
  }
 },
 "nbformat": 4,
 "nbformat_minor": 5
}
